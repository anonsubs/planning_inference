{
 "cells": [
  {
   "cell_type": "code",
   "execution_count": 1,
   "metadata": {},
   "outputs": [],
   "source": [
    "from functions import launch_experiments"
   ]
  },
  {
   "cell_type": "code",
   "execution_count": 4,
   "metadata": {},
   "outputs": [],
   "source": [
    "domain = \"grid\"\n",
    "timeout = 120"
   ]
  },
  {
   "cell_type": "code",
   "execution_count": null,
   "metadata": {
    "scrolled": true
   },
   "outputs": [
    {
     "name": "stdout",
     "output_type": "stream",
     "text": [
      "benchmark/driverlog/monitoring/30/P00\n",
      "Correct hypothesis: 3\n",
      "Hypothesis 0: 1000, 26.55\n",
      "Hypothesis 1: 27, 26.64\n",
      "Hypothesis 2: 28, 27.98\n",
      "Hypothesis 3: 27, 27.20\n",
      "Hypothesis 4: 1000, 26.98\n",
      "benchmark/driverlog/monitoring/30/P01\n",
      "Correct hypothesis: 2\n",
      "Hypothesis 0: 35, 31.28\n",
      "Hypothesis 1: 42, 32.13\n",
      "Hypothesis 2: 32, 31.26\n",
      "Hypothesis 3: 39, 31.64\n",
      "Hypothesis 4: 36, 31.57\n",
      "benchmark/driverlog/monitoring/30/P02\n",
      "Correct hypothesis: 2\n",
      "Hypothesis 0: 1000, 22.38\n",
      "Hypothesis 1: 1000, 24.33\n",
      "Hypothesis 2: 25, 22.33\n",
      "Hypothesis 3: 1000, 23.31\n",
      "Hypothesis 4: 1000, 24.17\n",
      "benchmark/driverlog/monitoring/30/P03\n",
      "Correct hypothesis: 1\n",
      "Hypothesis 0: 39, 32.14\n",
      "Hypothesis 1: 32, 32.58\n",
      "Hypothesis 2: 42, 32.20\n",
      "Hypothesis 3: 41, 31.92\n",
      "Hypothesis 4: 36, 31.62\n",
      "benchmark/driverlog/monitoring/30/P04\n",
      "Correct hypothesis: 2\n",
      "Hypothesis 0: 1000, 26.86\n",
      "Hypothesis 1: 27, 27.16\n",
      "Hypothesis 2: 27, 26.66\n",
      "Hypothesis 3: 28, 26.79\n",
      "Hypothesis 4: 1000, 27.07\n",
      "Hypothesis 5: 1000, 27.17\n",
      "benchmark/driverlog/monitoring/30/P05\n",
      "Correct hypothesis: 1\n",
      "Hypothesis 0: 30, 30.59\n",
      "Hypothesis 1: 30, 31.07\n",
      "Hypothesis 2: 1000, 31.42\n"
     ]
    }
   ],
   "source": [
    "# MONITORING\n",
    "\n",
    "task = \"monitoring\"\n",
    "launch_experiments(domain, task, timeout)"
   ]
  },
  {
   "cell_type": "code",
   "execution_count": null,
   "metadata": {},
   "outputs": [],
   "source": [
    "# PREDICTION\n",
    "\n",
    "task = \"prediction\"\n",
    "launch_experiments(domain, task, timeout)"
   ]
  },
  {
   "cell_type": "code",
   "execution_count": null,
   "metadata": {},
   "outputs": [],
   "source": [
    "# HINDSIGHT\n",
    "\n",
    "task = \"hindsight\"\n",
    "launch_experiments(domain, task, timeout)"
   ]
  }
 ],
 "metadata": {
  "kernelspec": {
   "display_name": "inference",
   "language": "python",
   "name": "inference"
  },
  "language_info": {
   "codemirror_mode": {
    "name": "ipython",
    "version": 3
   },
   "file_extension": ".py",
   "mimetype": "text/x-python",
   "name": "python",
   "nbconvert_exporter": "python",
   "pygments_lexer": "ipython3",
   "version": "3.6.9"
  }
 },
 "nbformat": 4,
 "nbformat_minor": 2
}

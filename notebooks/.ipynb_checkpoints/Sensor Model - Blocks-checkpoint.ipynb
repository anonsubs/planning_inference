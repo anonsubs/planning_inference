{
 "cells": [
  {
   "cell_type": "code",
   "execution_count": 2,
   "metadata": {},
   "outputs": [],
   "source": [
    "from meta_planning.parsers import parse_trajectory, parse_model\n",
    "from meta_planning import ValidationTask\n",
    "from meta_planning import dataset\n",
    "from meta_planning.pddl import SensorModel\n",
    "from meta_planning.functions import generate_all_literals, get_matching_literals\n",
    "\n",
    "import numpy as np"
   ]
  },
  {
   "cell_type": "code",
   "execution_count": 3,
   "metadata": {},
   "outputs": [],
   "source": [
    "domain = \"blocks\"\n",
    "\n",
    "M = parse_model('benchmarks/%s/trajectories/domain.pddl' % domain)\n",
    "t = parse_trajectory('benchmarks/%s/trajectories/trajectory-00' % domain, M)\n",
    "T = [t]"
   ]
  },
  {
   "cell_type": "code",
   "execution_count": 5,
   "metadata": {},
   "outputs": [],
   "source": [
    "F = generate_all_literals(M.predicates, T[0].objects, M.types)\n",
    "\n",
    "mapping = {f:f for f in F}\n",
    "\n",
    "S = SensorModel(mapping,[0,0,1])"
   ]
  },
  {
   "cell_type": "code",
   "execution_count": null,
   "metadata": {},
   "outputs": [],
   "source": [
    "preds = [p for p in M.predicates if p.name in [\"on\", \"ontable\", \"clear\"]]\n",
    "\n",
    "trucks = [o for o in T[0].objects if o.type_name == \"truck\"]\n",
    "\n",
    "subF = get_matching_literals(F, preds, trucks)\n",
    "\n",
    "mapping = {f:f for f in subF}\n",
    "\n",
    "S.set_observability(mapping, [0.9,0,0.1])"
   ]
  },
  {
   "cell_type": "code",
   "execution_count": null,
   "metadata": {},
   "outputs": [],
   "source": [
    "T = [t]\n",
    "O = [t.observe_with_sensor_model(S, action_observability=0) for t in T]\n",
    "\n",
    "print(O[0])"
   ]
  },
  {
   "cell_type": "code",
   "execution_count": null,
   "metadata": {},
   "outputs": [],
   "source": [
    "valtask = ValidationTask(m,O, )\n",
    "valtask.validate(planner=\"downward\")"
   ]
  },
  {
   "cell_type": "code",
   "execution_count": null,
   "metadata": {},
   "outputs": [],
   "source": []
  }
 ],
 "metadata": {
  "kernelspec": {
   "display_name": "meta-planning",
   "language": "python",
   "name": "meta-planning"
  },
  "language_info": {
   "codemirror_mode": {
    "name": "ipython",
    "version": 3
   },
   "file_extension": ".py",
   "mimetype": "text/x-python",
   "name": "python",
   "nbconvert_exporter": "python",
   "pygments_lexer": "ipython3",
   "version": "3.6.8"
  }
 },
 "nbformat": 4,
 "nbformat_minor": 2
}

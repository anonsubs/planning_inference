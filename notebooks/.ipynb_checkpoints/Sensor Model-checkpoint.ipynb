{
 "cells": [
  {
   "cell_type": "code",
   "execution_count": 1,
   "metadata": {},
   "outputs": [],
   "source": [
    "from meta_planning.parsers import parse_trajectory, parse_model\n",
    "from meta_planning import ValidationTask\n",
    "from meta_planning import dataset\n",
    "from meta_planning.pddl import SensorModel\n",
    "from meta_planning.functions import generate_all_literals, get_matching_literals\n",
    "\n",
    "import numpy as np"
   ]
  },
  {
   "cell_type": "code",
   "execution_count": 2,
   "metadata": {},
   "outputs": [],
   "source": [
    "domain = \"driverlog\"\n",
    "\n",
    "M = dataset.load_model(domain=domain)\n",
    "T = dataset.load_trajectories(domain=domain, select=[0])"
   ]
  },
  {
   "cell_type": "code",
   "execution_count": 3,
   "metadata": {},
   "outputs": [],
   "source": [
    "F = generate_all_literals(M.predicates, T[0].objects, M.types)\n",
    "\n",
    "mapping = {f:f for f in F}\n",
    "\n",
    "S = SensorModel(mapping,[0,0,1])"
   ]
  },
  {
   "cell_type": "code",
   "execution_count": 4,
   "metadata": {},
   "outputs": [],
   "source": [
    "preds = [p for p in M.predicates if p.name == \"at\"]\n",
    "\n",
    "objects = [o for o in T[0].objects if o.type_name == \"location\"]\n",
    "\n",
    "subF = get_matching_literals(F, preds, objects)\n",
    "\n",
    "mapping = {f:f for f in subF}\n",
    "\n",
    "S.set_observability(mapping, [0.2,0,0.8])"
   ]
  },
  {
   "cell_type": "code",
   "execution_count": 5,
   "metadata": {},
   "outputs": [
    {
     "name": "stdout",
     "output_type": "stream",
     "text": [
      "(at truck2 s0) [0.2, 0, 0.8]\n",
      "(at truck2 s1) [0.2, 0, 0.8]\n",
      "(at truck2 s2) [0.2, 0, 0.8]\n",
      "(at truck2 p0-1) [0.2, 0, 0.8]\n",
      "(at truck2 p0-2) [0.2, 0, 0.8]\n",
      "(at truck2 p1-0) [0.2, 0, 0.8]\n",
      "(at truck2 p2-1) [0.2, 0, 0.8]\n",
      "(at truck1 s0) [0.2, 0, 0.8]\n",
      "(at truck1 s1) [0.2, 0, 0.8]\n",
      "(at truck1 s2) [0.2, 0, 0.8]\n",
      "(at truck1 p0-1) [0.2, 0, 0.8]\n",
      "(at truck1 p0-2) [0.2, 0, 0.8]\n",
      "(at truck1 p1-0) [0.2, 0, 0.8]\n",
      "(at truck1 p2-1) [0.2, 0, 0.8]\n",
      "(at driver2 s0) [0.2, 0, 0.8]\n",
      "(at driver2 s1) [0.2, 0, 0.8]\n",
      "(at driver2 s2) [0.2, 0, 0.8]\n",
      "(at driver2 p0-1) [0.2, 0, 0.8]\n",
      "(at driver2 p0-2) [0.2, 0, 0.8]\n",
      "(at driver2 p1-0) [0.2, 0, 0.8]\n",
      "(at driver2 p2-1) [0.2, 0, 0.8]\n",
      "(at driver1 s0) [0.2, 0, 0.8]\n",
      "(at driver1 s1) [0.2, 0, 0.8]\n",
      "(at driver1 s2) [0.2, 0, 0.8]\n",
      "(at driver1 p0-1) [0.2, 0, 0.8]\n",
      "(at driver1 p0-2) [0.2, 0, 0.8]\n",
      "(at driver1 p1-0) [0.2, 0, 0.8]\n",
      "(at driver1 p2-1) [0.2, 0, 0.8]\n",
      "(at package1 s0) [0.2, 0, 0.8]\n",
      "(at package1 s1) [0.2, 0, 0.8]\n",
      "(at package1 s2) [0.2, 0, 0.8]\n",
      "(at package1 p0-1) [0.2, 0, 0.8]\n",
      "(at package1 p0-2) [0.2, 0, 0.8]\n",
      "(at package1 p1-0) [0.2, 0, 0.8]\n",
      "(at package1 p2-1) [0.2, 0, 0.8]\n",
      "(at package3 s0) [0.2, 0, 0.8]\n",
      "(at package3 s1) [0.2, 0, 0.8]\n",
      "(at package3 s2) [0.2, 0, 0.8]\n",
      "(at package3 p0-1) [0.2, 0, 0.8]\n",
      "(at package3 p0-2) [0.2, 0, 0.8]\n",
      "(at package3 p1-0) [0.2, 0, 0.8]\n",
      "(at package3 p2-1) [0.2, 0, 0.8]\n",
      "(at package2 s0) [0.2, 0, 0.8]\n",
      "(at package2 s1) [0.2, 0, 0.8]\n",
      "(at package2 s2) [0.2, 0, 0.8]\n",
      "(at package2 p0-1) [0.2, 0, 0.8]\n",
      "(at package2 p0-2) [0.2, 0, 0.8]\n",
      "(at package2 p1-0) [0.2, 0, 0.8]\n",
      "(at package2 p2-1) [0.2, 0, 0.8]\n",
      "(in package1 truck2) [0, 0, 1]\n",
      "(in package1 truck1) [0, 0, 1]\n",
      "(in package3 truck2) [0, 0, 1]\n",
      "(in package3 truck1) [0, 0, 1]\n",
      "(in package2 truck2) [0, 0, 1]\n",
      "(in package2 truck1) [0, 0, 1]\n",
      "(driving driver2 truck2) [0, 0, 1]\n",
      "(driving driver2 truck1) [0, 0, 1]\n",
      "(driving driver1 truck2) [0, 0, 1]\n",
      "(driving driver1 truck1) [0, 0, 1]\n",
      "(link s0 s0) [0, 0, 1]\n",
      "(link s0 s1) [0, 0, 1]\n",
      "(link s0 s2) [0, 0, 1]\n",
      "(link s0 p0-1) [0, 0, 1]\n",
      "(link s0 p0-2) [0, 0, 1]\n",
      "(link s0 p1-0) [0, 0, 1]\n",
      "(link s0 p2-1) [0, 0, 1]\n",
      "(link s1 s0) [0, 0, 1]\n",
      "(link s1 s1) [0, 0, 1]\n",
      "(link s1 s2) [0, 0, 1]\n",
      "(link s1 p0-1) [0, 0, 1]\n",
      "(link s1 p0-2) [0, 0, 1]\n",
      "(link s1 p1-0) [0, 0, 1]\n",
      "(link s1 p2-1) [0, 0, 1]\n",
      "(link s2 s0) [0, 0, 1]\n",
      "(link s2 s1) [0, 0, 1]\n",
      "(link s2 s2) [0, 0, 1]\n",
      "(link s2 p0-1) [0, 0, 1]\n",
      "(link s2 p0-2) [0, 0, 1]\n",
      "(link s2 p1-0) [0, 0, 1]\n",
      "(link s2 p2-1) [0, 0, 1]\n",
      "(link p0-1 s0) [0, 0, 1]\n",
      "(link p0-1 s1) [0, 0, 1]\n",
      "(link p0-1 s2) [0, 0, 1]\n",
      "(link p0-1 p0-1) [0, 0, 1]\n",
      "(link p0-1 p0-2) [0, 0, 1]\n",
      "(link p0-1 p1-0) [0, 0, 1]\n",
      "(link p0-1 p2-1) [0, 0, 1]\n",
      "(link p0-2 s0) [0, 0, 1]\n",
      "(link p0-2 s1) [0, 0, 1]\n",
      "(link p0-2 s2) [0, 0, 1]\n",
      "(link p0-2 p0-1) [0, 0, 1]\n",
      "(link p0-2 p0-2) [0, 0, 1]\n",
      "(link p0-2 p1-0) [0, 0, 1]\n",
      "(link p0-2 p2-1) [0, 0, 1]\n",
      "(link p1-0 s0) [0, 0, 1]\n",
      "(link p1-0 s1) [0, 0, 1]\n",
      "(link p1-0 s2) [0, 0, 1]\n",
      "(link p1-0 p0-1) [0, 0, 1]\n",
      "(link p1-0 p0-2) [0, 0, 1]\n",
      "(link p1-0 p1-0) [0, 0, 1]\n",
      "(link p1-0 p2-1) [0, 0, 1]\n",
      "(link p2-1 s0) [0, 0, 1]\n",
      "(link p2-1 s1) [0, 0, 1]\n",
      "(link p2-1 s2) [0, 0, 1]\n",
      "(link p2-1 p0-1) [0, 0, 1]\n",
      "(link p2-1 p0-2) [0, 0, 1]\n",
      "(link p2-1 p1-0) [0, 0, 1]\n",
      "(link p2-1 p2-1) [0, 0, 1]\n",
      "(path s0 s0) [0, 0, 1]\n",
      "(path s0 s1) [0, 0, 1]\n",
      "(path s0 s2) [0, 0, 1]\n",
      "(path s0 p0-1) [0, 0, 1]\n",
      "(path s0 p0-2) [0, 0, 1]\n",
      "(path s0 p1-0) [0, 0, 1]\n",
      "(path s0 p2-1) [0, 0, 1]\n",
      "(path s1 s0) [0, 0, 1]\n",
      "(path s1 s1) [0, 0, 1]\n",
      "(path s1 s2) [0, 0, 1]\n",
      "(path s1 p0-1) [0, 0, 1]\n",
      "(path s1 p0-2) [0, 0, 1]\n",
      "(path s1 p1-0) [0, 0, 1]\n",
      "(path s1 p2-1) [0, 0, 1]\n",
      "(path s2 s0) [0, 0, 1]\n",
      "(path s2 s1) [0, 0, 1]\n",
      "(path s2 s2) [0, 0, 1]\n",
      "(path s2 p0-1) [0, 0, 1]\n",
      "(path s2 p0-2) [0, 0, 1]\n",
      "(path s2 p1-0) [0, 0, 1]\n",
      "(path s2 p2-1) [0, 0, 1]\n",
      "(path p0-1 s0) [0, 0, 1]\n",
      "(path p0-1 s1) [0, 0, 1]\n",
      "(path p0-1 s2) [0, 0, 1]\n",
      "(path p0-1 p0-1) [0, 0, 1]\n",
      "(path p0-1 p0-2) [0, 0, 1]\n",
      "(path p0-1 p1-0) [0, 0, 1]\n",
      "(path p0-1 p2-1) [0, 0, 1]\n",
      "(path p0-2 s0) [0, 0, 1]\n",
      "(path p0-2 s1) [0, 0, 1]\n",
      "(path p0-2 s2) [0, 0, 1]\n",
      "(path p0-2 p0-1) [0, 0, 1]\n",
      "(path p0-2 p0-2) [0, 0, 1]\n",
      "(path p0-2 p1-0) [0, 0, 1]\n",
      "(path p0-2 p2-1) [0, 0, 1]\n",
      "(path p1-0 s0) [0, 0, 1]\n",
      "(path p1-0 s1) [0, 0, 1]\n",
      "(path p1-0 s2) [0, 0, 1]\n",
      "(path p1-0 p0-1) [0, 0, 1]\n",
      "(path p1-0 p0-2) [0, 0, 1]\n",
      "(path p1-0 p1-0) [0, 0, 1]\n",
      "(path p1-0 p2-1) [0, 0, 1]\n",
      "(path p2-1 s0) [0, 0, 1]\n",
      "(path p2-1 s1) [0, 0, 1]\n",
      "(path p2-1 s2) [0, 0, 1]\n",
      "(path p2-1 p0-1) [0, 0, 1]\n",
      "(path p2-1 p0-2) [0, 0, 1]\n",
      "(path p2-1 p1-0) [0, 0, 1]\n",
      "(path p2-1 p2-1) [0, 0, 1]\n",
      "(empty truck2) [0, 0, 1]\n",
      "(empty truck1) [0, 0, 1]\n"
     ]
    }
   ],
   "source": [
    "for k,v in S.observability_table.items():\n",
    "    print(k,v)"
   ]
  },
  {
   "cell_type": "code",
   "execution_count": 6,
   "metadata": {
    "scrolled": true
   },
   "outputs": [],
   "source": [
    "O = [t.observe_with_sensor_model(S, action_observability=0) for t in T]\n",
    "# O = [t.observe(0) for t in T]"
   ]
  },
  {
   "cell_type": "code",
   "execution_count": 7,
   "metadata": {
    "scrolled": false
   },
   "outputs": [],
   "source": [
    "# states = [s for s in O[0].states if np.random.random() < 0.5]\n",
    "# O[0].states = states\n",
    "# O[0].length = len(states)"
   ]
  },
  {
   "cell_type": "code",
   "execution_count": 12,
   "metadata": {},
   "outputs": [
    {
     "name": "stdout",
     "output_type": "stream",
     "text": [
      "/home/dieaigar/PhD/meta-planning/src/meta_planning/util/planners/metric-FF/ff -E -O -g 1 -h 0 -o compiled_domain -f compiled_problem -s solution_plan\n",
      "0 : (SENSE0 )\n",
      "1 : (WALK S0 P0-2 DRIVER2)\n",
      "2 : (SENSE1 )\n",
      "3 : (WALK S0 P0-2 DRIVER1)\n",
      "4 : (SENSE2 )\n",
      "5 : (WALK P0-2 S2 DRIVER2)\n",
      "6 : (SENSE3 )\n",
      "7 : (WALK P0-2 S2 DRIVER1)\n",
      "8 : (SENSE4 )\n",
      "9 : (BOARD-TRUCK DRIVER2 TRUCK1 S2)\n",
      "10 : (SENSE5 )\n",
      "11 : (DISEMBARK-TRUCK DRIVER2 TRUCK1 S2)\n",
      "12 : (SENSE6 )\n",
      "13 : (BOARD-TRUCK DRIVER2 TRUCK1 S2)\n",
      "14 : (SENSE7 )\n",
      "15 : (WALK S2 P2-1 DRIVER1)\n",
      "16 : (SENSE8 )\n",
      "17 : (WALK P2-1 S2 DRIVER1)\n",
      "18 : (SENSE9 )\n",
      "19 : (DISEMBARK-TRUCK DRIVER2 TRUCK1 S2)\n",
      "20 : (VALIDATE_10 )\n",
      "\n"
     ]
    }
   ],
   "source": [
    "S.set_observability(mapping, [0.2,0,0.8])\n",
    "valtask = ValidationTask(M,O, sensor_model=S, use_cost=True)\n",
    "sol = valtask.validate(clean=False, planner=\"metric-ff\")\n",
    "print(sol.solution_plan)"
   ]
  },
  {
   "cell_type": "code",
   "execution_count": 8,
   "metadata": {},
   "outputs": [],
   "source": [
    "S.set_observability(mapping, [0.8,0,0.2])"
   ]
  },
  {
   "cell_type": "code",
   "execution_count": 9,
   "metadata": {},
   "outputs": [
    {
     "name": "stdout",
     "output_type": "stream",
     "text": [
      "/home/dieaigar/PhD/meta-planning/src/meta_planning/util/planners/metric-FF/ff -E -O -g 1 -h 0 -o compiled_domain -f compiled_problem -s solution_plan\n"
     ]
    }
   ],
   "source": [
    "valtask = ValidationTask(M,O, sensor_model=S, use_cost=True)\n",
    "sol = valtask.validate(clean=False, planner=\"metric-ff\")"
   ]
  },
  {
   "cell_type": "code",
   "execution_count": 10,
   "metadata": {},
   "outputs": [
    {
     "name": "stdout",
     "output_type": "stream",
     "text": [
      "0 : (SENSE0 )\n",
      "1 : (WALK S0 P0-2 DRIVER2)\n",
      "2 : (SENSE1 )\n",
      "3 : (WALK S0 P0-2 DRIVER1)\n",
      "4 : (SENSE2 )\n",
      "5 : (WALK P0-2 S2 DRIVER2)\n",
      "6 : (SENSE3 )\n",
      "7 : (WALK P0-2 S2 DRIVER1)\n",
      "8 : (SENSE4 )\n",
      "9 : (BOARD-TRUCK DRIVER2 TRUCK1 S2)\n",
      "10 : (SENSE5 )\n",
      "11 : (DISEMBARK-TRUCK DRIVER2 TRUCK1 S2)\n",
      "12 : (SENSE6 )\n",
      "13 : (BOARD-TRUCK DRIVER2 TRUCK1 S2)\n",
      "14 : (SENSE7 )\n",
      "15 : (WALK S2 P2-1 DRIVER1)\n",
      "16 : (SENSE8 )\n",
      "17 : (WALK P2-1 S2 DRIVER1)\n",
      "18 : (SENSE9 )\n",
      "19 : (DISEMBARK-TRUCK DRIVER2 TRUCK1 S2)\n",
      "20 : (VALIDATE_10 )\n",
      "\n"
     ]
    }
   ],
   "source": [
    "print(sol.solution_plan)"
   ]
  },
  {
   "cell_type": "code",
   "execution_count": 11,
   "metadata": {},
   "outputs": [
    {
     "name": "stdout",
     "output_type": "stream",
     "text": [
      "(walk s0 p0-2 driver1)\n",
      "(load-truck package1 truck2 s2)\n",
      "(walk p0-2 s2 driver1)\n",
      "(unload-truck package1 truck2 s2)\n",
      "(walk s0 p0-2 driver2)\n",
      "(walk p0-2 s2 driver2)\n",
      "(board-truck driver2 truck1 s2)\n",
      "(drive-truck truck1 s2 s1 driver2)\n",
      "(drive-truck truck1 s1 s2 driver2)\n",
      "(disembark-truck driver2 truck1 s2)\n",
      "None\n"
     ]
    }
   ],
   "source": [
    "for s in T[0].states:\n",
    "    print(s.next_action)"
   ]
  }
 ],
 "metadata": {
  "kernelspec": {
   "display_name": "meta-planning",
   "language": "python",
   "name": "meta-planning"
  },
  "language_info": {
   "codemirror_mode": {
    "name": "ipython",
    "version": 3
   },
   "file_extension": ".py",
   "mimetype": "text/x-python",
   "name": "python",
   "nbconvert_exporter": "python",
   "pygments_lexer": "ipython3",
   "version": "3.6.8"
  }
 },
 "nbformat": 4,
 "nbformat_minor": 2
}

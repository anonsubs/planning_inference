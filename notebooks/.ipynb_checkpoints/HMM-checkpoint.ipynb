{
 "cells": [
  {
   "cell_type": "code",
   "execution_count": 13,
   "metadata": {},
   "outputs": [],
   "source": [
    "from meta_planning.parsers import parse_trajectory, parse_model, parse_problem, parse_plan\n",
    "from meta_planning.generator import generate_trajectory\n",
    "from meta_planning import ValidationTask\n",
    "from meta_planning import dataset\n",
    "from meta_planning.pddl import SensorModel, Literal\n",
    "from meta_planning.functions import generate_all_literals, get_matching_literals\n",
    "\n",
    "import numpy as np"
   ]
  },
  {
   "cell_type": "code",
   "execution_count": 19,
   "metadata": {},
   "outputs": [
    {
     "ename": "AssertionError",
     "evalue": "",
     "output_type": "error",
     "traceback": [
      "\u001b[0;31m---------------------------------------------------------------------------\u001b[0m",
      "\u001b[0;31mAssertionError\u001b[0m                            Traceback (most recent call last)",
      "\u001b[0;32m<ipython-input-19-bb2ee89c4160>\u001b[0m in \u001b[0;36m<module>\u001b[0;34m\u001b[0m\n\u001b[1;32m      2\u001b[0m \u001b[0;34m\u001b[0m\u001b[0m\n\u001b[1;32m      3\u001b[0m \u001b[0mM\u001b[0m \u001b[0;34m=\u001b[0m \u001b[0mparse_model\u001b[0m\u001b[0;34m(\u001b[0m\u001b[0;34m'benchmarks/%s/trajectories/domain.pddl'\u001b[0m \u001b[0;34m%\u001b[0m \u001b[0mdomain\u001b[0m\u001b[0;34m)\u001b[0m\u001b[0;34m\u001b[0m\u001b[0;34m\u001b[0m\u001b[0m\n\u001b[0;32m----> 4\u001b[0;31m \u001b[0mt\u001b[0m \u001b[0;34m=\u001b[0m \u001b[0mparse_trajectory\u001b[0m\u001b[0;34m(\u001b[0m\u001b[0;34m'benchmarks/%s/trajectories/trajectory-00'\u001b[0m \u001b[0;34m%\u001b[0m \u001b[0mdomain\u001b[0m\u001b[0;34m,\u001b[0m \u001b[0mM\u001b[0m\u001b[0;34m)\u001b[0m\u001b[0;34m\u001b[0m\u001b[0;34m\u001b[0m\u001b[0m\n\u001b[0m\u001b[1;32m      5\u001b[0m \u001b[0mT\u001b[0m \u001b[0;34m=\u001b[0m \u001b[0;34m[\u001b[0m\u001b[0mt\u001b[0m\u001b[0;34m]\u001b[0m\u001b[0;34m\u001b[0m\u001b[0;34m\u001b[0m\u001b[0m\n",
      "\u001b[0;32m~/PhD/meta-planning/src/meta_planning/parsers/trajectory_parsing.py\u001b[0m in \u001b[0;36mparse_trajectory\u001b[0;34m(trajectory_file, model)\u001b[0m\n\u001b[1;32m     41\u001b[0m \u001b[0;34m\u001b[0m\u001b[0m\n\u001b[1;32m     42\u001b[0m     \u001b[0minit\u001b[0m \u001b[0;34m=\u001b[0m \u001b[0mnext\u001b[0m\u001b[0;34m(\u001b[0m\u001b[0miterator\u001b[0m\u001b[0;34m)\u001b[0m\u001b[0;34m\u001b[0m\u001b[0;34m\u001b[0m\u001b[0m\n\u001b[0;32m---> 43\u001b[0;31m     \u001b[0;32massert\u001b[0m \u001b[0minit\u001b[0m\u001b[0;34m[\u001b[0m\u001b[0;36m0\u001b[0m\u001b[0;34m]\u001b[0m \u001b[0;34m==\u001b[0m \u001b[0;34m\":init\"\u001b[0m\u001b[0;34m\u001b[0m\u001b[0;34m\u001b[0m\u001b[0m\n\u001b[0m\u001b[1;32m     44\u001b[0m     \u001b[0mnew_state\u001b[0m \u001b[0;34m=\u001b[0m \u001b[0mparse_state\u001b[0m\u001b[0;34m(\u001b[0m\u001b[0minit\u001b[0m\u001b[0;34m[\u001b[0m\u001b[0;36m1\u001b[0m\u001b[0;34m:\u001b[0m\u001b[0;34m]\u001b[0m\u001b[0;34m,\u001b[0m \u001b[0mall_literals\u001b[0m\u001b[0;34m)\u001b[0m\u001b[0;34m\u001b[0m\u001b[0;34m\u001b[0m\u001b[0m\n\u001b[1;32m     45\u001b[0m \u001b[0;34m\u001b[0m\u001b[0m\n",
      "\u001b[0;31mAssertionError\u001b[0m: "
     ]
    }
   ],
   "source": [
    "M = parse_model('../test/domain.pddl')\n",
    "P = parse_problem('../test/problem.pddl', M)\n",
    "plan = parse_plan(\"../test/sas_plan.1\")\n",
    "\n",
    "t = generate_trajectory(M, P, plan)\n",
    "\n",
    "T = [t]"
   ]
  },
  {
   "cell_type": "code",
   "execution_count": 14,
   "metadata": {},
   "outputs": [],
   "source": [
    "F = generate_all_literals(M.predicates, T[0].objects, M.types)\n",
    "\n",
    "mapping = {f:f for f in F}\n",
    "\n",
    "S = SensorModel(mapping, [0,0,1])\n",
    "\n",
    "observable = [Literal(p, [], True) for p in [\"o1_knife\", \"o2_spoon\", \"o3_fork\", \"o4_cup\"]]\n",
    "\n",
    "mapping = {}\n",
    "mapping[Literal(\"s1_cut_steack\", [], True)] = Literal(\"o1_knife\", [], True)\n",
    "mapping[Literal(\"s2_have_soup\", [], True)] = Literal(\"o2_spoon\", [], True)\n",
    "mapping[Literal(\"s3_pick_food\", [], True)] = Literal(\"o3_fork\", [], True)\n",
    "mapping[Literal(\"s4_drink\", [], True)] = Literal(\"o4_cup\", [], True)\n",
    "\n",
    "S.set_observability(mapping, [0.9, 0, 0.1])"
   ]
  },
  {
   "cell_type": "code",
   "execution_count": 16,
   "metadata": {},
   "outputs": [
    {
     "name": "stdout",
     "output_type": "stream",
     "text": [
      "(s0_initial ) [0, 0, 1]\n",
      "(s1_cut_steack ) [0.9, 0, 0.1]\n",
      "(s2_have_soup ) [0.9, 0, 0.1]\n",
      "(s3_pick_food ) [0.9, 0, 0.1]\n",
      "(s4_drink ) [0.9, 0, 0.1]\n"
     ]
    }
   ],
   "source": [
    "for k,v in S.observability_table.items():\n",
    "    print(k,v)"
   ]
  },
  {
   "cell_type": "code",
   "execution_count": 15,
   "metadata": {},
   "outputs": [
    {
     "name": "stdout",
     "output_type": "stream",
     "text": [
      "(observation\n",
      "\n",
      "(:objects )\n",
      "\n",
      "(:state (s0_initial ) (not (s1_cut_steack )) (not (s2_have_soup )) (not (s3_pick_food )) (not (s4_drink )))\n",
      "\n",
      "(:state (not (o1_knife )) (o2_spoon ) (not (o3_fork )) (not (o4_cup )))\n",
      "\n",
      "(:state (not (o1_knife )) (o2_spoon ) (not (o3_fork )) (not (o4_cup )))\n",
      "\n",
      "(:state (o1_knife ) (not (o2_spoon )) (not (o3_fork )))\n",
      "\n",
      "(:state (o1_knife ) (not (o2_spoon )) (not (o3_fork )) (not (o4_cup )))\n",
      "\n",
      "(:state (o1_knife ) (not (o2_spoon )) (not (o3_fork )) (not (o4_cup )))\n",
      "\n",
      "(:state (not (o1_knife )) (not (o2_spoon )) (o3_fork ) (not (o4_cup )))\n",
      "\n",
      "(:state (not (o1_knife )) (o2_spoon ) (not (o3_fork )) (not (o4_cup )))\n",
      "\n",
      "(:state (not (o1_knife )) (not (o2_spoon )) (o3_fork ) (not (o4_cup )))\n",
      "\n",
      "(:state (not (s0_initial )) (not (s1_cut_steack )) (not (s2_have_soup )) (not (s3_pick_food )) (s4_drink )))\n"
     ]
    }
   ],
   "source": [
    "O = [t.observe_with_sensor_model(S, action_observability=0) for t in T]\n",
    "print(O[0])"
   ]
  },
  {
   "cell_type": "code",
   "execution_count": 17,
   "metadata": {
    "scrolled": false
   },
   "outputs": [],
   "source": [
    "# states = [s for s in O[0].states[:-1] if np.random.random() < 0.8] + [O[0].states[-1]]\n",
    "# O[0].states = states\n",
    "# O[0].length = len(states)\n",
    "# O[0].number_of_states = len(states)"
   ]
  },
  {
   "cell_type": "code",
   "execution_count": 18,
   "metadata": {},
   "outputs": [
    {
     "name": "stdout",
     "output_type": "stream",
     "text": [
      "/home/dieaigar/PhD/meta-planning/src/meta_planning/util/planners/metric-FF/ff -E -O -g 1 -h 0 -o compiled_domain -f compiled_problem\n"
     ]
    }
   ],
   "source": [
    "valtask = ValidationTask(M,O, sensor_model=S, use_cost=True)\n",
    "sol = valtask.validate(clean=False, planner=\"metric-ff\")"
   ]
  }
 ],
 "metadata": {
  "kernelspec": {
   "display_name": "meta-planning",
   "language": "python",
   "name": "meta-planning"
  },
  "language_info": {
   "codemirror_mode": {
    "name": "ipython",
    "version": 3
   },
   "file_extension": ".py",
   "mimetype": "text/x-python",
   "name": "python",
   "nbconvert_exporter": "python",
   "pygments_lexer": "ipython3",
   "version": "3.6.8"
  }
 },
 "nbformat": 4,
 "nbformat_minor": 2
}

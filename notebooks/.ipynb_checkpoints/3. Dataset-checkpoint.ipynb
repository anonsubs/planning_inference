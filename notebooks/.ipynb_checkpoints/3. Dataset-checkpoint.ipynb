{
 "cells": [
  {
   "cell_type": "code",
   "execution_count": 1,
   "metadata": {},
   "outputs": [],
   "source": [
    "from meta_planning import dataset"
   ]
  },
  {
   "cell_type": "code",
   "execution_count": 2,
   "metadata": {},
   "outputs": [
    {
     "name": "stdout",
     "output_type": "stream",
     "text": [
      "Learning domains:\n",
      "\t blocks\n",
      "\t driverlog\n",
      "\t ferry\n",
      "\t floortile\n",
      "\t grid\n",
      "\t gripper\n",
      "\t hanoi\n",
      "\t miconic\n",
      "\t npuzzle\n",
      "\t parking\n",
      "\t rovers\n",
      "\t satellite\n",
      "\t transport\n",
      "\t visitall\n",
      "\t zenotravel\n",
      "\n",
      "Recognition domains:\n",
      "\t Group 0: nondet-blocks-A, nondet-blocks-B, nondet-blocks-C\n"
     ]
    }
   ],
   "source": [
    "dataset.list_domains()"
   ]
  },
  {
   "cell_type": "code",
   "execution_count": 3,
   "metadata": {},
   "outputs": [],
   "source": [
    "M = dataset.load_model(\"blocks\")"
   ]
  },
  {
   "cell_type": "code",
   "execution_count": 8,
   "metadata": {},
   "outputs": [],
   "source": [
    "T = dataset.load_trajectories(\"blocks\", select=[1,3,5])"
   ]
  }
 ],
 "metadata": {
  "kernelspec": {
   "display_name": "meta-planning",
   "language": "python",
   "name": "meta-planning"
  },
  "language_info": {
   "codemirror_mode": {
    "name": "ipython",
    "version": 3
   },
   "file_extension": ".py",
   "mimetype": "text/x-python",
   "name": "python",
   "nbconvert_exporter": "python",
   "pygments_lexer": "ipython3",
   "version": "3.6.3"
  }
 },
 "nbformat": 4,
 "nbformat_minor": 2
}
